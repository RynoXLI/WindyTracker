{
 "cells": [
  {
   "cell_type": "markdown",
   "metadata": {},
   "source": [
    "# Extract Route information\n",
    "\n",
    "Author: Ryan Fogle"
   ]
  },
  {
   "cell_type": "code",
   "execution_count": null,
   "metadata": {},
   "outputs": [],
   "source": [
    "import os\n",
    "from dotenv import load_dotenv\n",
    "from cta import SimpleAPI\n",
    "import pandas as pd\n",
    "import json"
   ]
  },
  {
   "cell_type": "code",
   "execution_count": null,
   "metadata": {},
   "outputs": [],
   "source": [
    "tracker = SimpleAPI(os.environ['CTA_KEY'])\n",
    "tracker.gettime()"
   ]
  },
  {
   "cell_type": "markdown",
   "metadata": {},
   "source": [
    "Get routes"
   ]
  },
  {
   "cell_type": "code",
   "execution_count": null,
   "metadata": {},
   "outputs": [],
   "source": [
    "rts = tracker.getroutes()\n",
    "rts"
   ]
  },
  {
   "cell_type": "code",
   "execution_count": null,
   "metadata": {},
   "outputs": [],
   "source": [
    "routes = [r['rt'] for r in rts['bustime-response']['routes']]"
   ]
  },
  {
   "cell_type": "markdown",
   "metadata": {},
   "source": [
    "Get route directions"
   ]
  },
  {
   "cell_type": "code",
   "execution_count": null,
   "metadata": {},
   "outputs": [],
   "source": [
    "rt_d = {}\n",
    "for rt in routes:\n",
    "    rt_d[rt] = tracker.getdirections(rt=rt)\n",
    "rt_d"
   ]
  },
  {
   "cell_type": "code",
   "execution_count": null,
   "metadata": {},
   "outputs": [],
   "source": [
    "rt_id = {}\n",
    "for rt in rt_d:\n",
    "    rt_id[rt] = [d['id'] for d in rt_d[rt]['bustime-response']['directions']]\n",
    "rt_id"
   ]
  },
  {
   "cell_type": "markdown",
   "metadata": {},
   "source": [
    "Get stops"
   ]
  },
  {
   "cell_type": "code",
   "execution_count": null,
   "metadata": {},
   "outputs": [],
   "source": [
    "rt_stop = {}\n",
    "for rt in rt_id:\n",
    "    rt_stop[rt] = {}\n",
    "    for d in rt_id[rt]:\n",
    "        rt_stop[rt][d] = tracker.getstops(rt=rt, dir=d)\n",
    "rt_stop"
   ]
  },
  {
   "cell_type": "code",
   "execution_count": null,
   "metadata": {},
   "outputs": [],
   "source": [
    "stops = []\n",
    "for rt in rt_stop:\n",
    "    for d in rt_stop[rt]:\n",
    "        stps = [s['stpid'] for s in rt_stop[rt][d]['bustime-response']['stops']]\n",
    "        for s in stps:\n",
    "            stops.append((rt, d, s))\n",
    "\n",
    "stops"
   ]
  },
  {
   "cell_type": "code",
   "execution_count": null,
   "metadata": {},
   "outputs": [],
   "source": [
    "df = pd.DataFrame(stops, columns=['rt', 'dir', 'stpid'])\n",
    "df"
   ]
  },
  {
   "cell_type": "code",
   "execution_count": null,
   "metadata": {},
   "outputs": [],
   "source": [
    "len(df['stpid'].unique())"
   ]
  },
  {
   "cell_type": "markdown",
   "metadata": {},
   "source": [
    "Get Patterns"
   ]
  },
  {
   "cell_type": "code",
   "execution_count": null,
   "metadata": {},
   "outputs": [],
   "source": [
    "patterns = {}\n",
    "for rt in routes:\n",
    "    patterns[rt] = tracker.getpatterns(rt=rt)\n",
    "patterns"
   ]
  },
  {
   "cell_type": "code",
   "execution_count": null,
   "metadata": {},
   "outputs": [],
   "source": [
    "json.dump(rts, open('routes.json', 'w'), indent=2)\n",
    "json.dump(rt_d, open('directions.json', 'w'), indent=2)\n",
    "json.dump(rt_stop, open('stops.json', 'w'), indent=2)\n",
    "json.dump(patterns, open('patterns.json', 'w'), indent=2)"
   ]
  }
 ],
 "metadata": {
  "kernelspec": {
   "display_name": "cta",
   "language": "python",
   "name": "python3"
  },
  "language_info": {
   "codemirror_mode": {
    "name": "ipython",
    "version": 3
   },
   "file_extension": ".py",
   "mimetype": "text/x-python",
   "name": "python",
   "nbconvert_exporter": "python",
   "pygments_lexer": "ipython3",
   "version": "3.10.11"
  },
  "orig_nbformat": 4
 },
 "nbformat": 4,
 "nbformat_minor": 2
}
