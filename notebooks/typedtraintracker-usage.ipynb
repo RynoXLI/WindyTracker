{
 "cells": [
  {
   "cell_type": "markdown",
   "id": "6be4fa12",
   "metadata": {},
   "source": [
    "# Simple Train Tracker API Example Usage\n",
    "\n",
    "Author: Ryan Fogle"
   ]
  },
  {
   "cell_type": "code",
   "execution_count": null,
   "id": "d01e4e3e",
   "metadata": {},
   "outputs": [],
   "source": [
    "import os\n",
    "from cta import TypedTrainTracker\n",
    "from dotenv import load_dotenv\n",
    "\n",
    "load_dotenv(override=True)"
   ]
  },
  {
   "cell_type": "markdown",
   "id": "47834b8b",
   "metadata": {},
   "source": [
    "## GET Arrivals"
   ]
  },
  {
   "cell_type": "code",
   "execution_count": null,
   "id": "fecca881",
   "metadata": {},
   "outputs": [],
   "source": [
    "tracker = TypedTrainTracker(key=os.environ[\"CTA_TRAIN_KEY\"])\n",
    "tracker.arrivals(\n",
    "    mapid=\"40360\",\n",
    ")"
   ]
  },
  {
   "cell_type": "markdown",
   "id": "2eaaa1ec",
   "metadata": {},
   "source": [
    "## GET Follow"
   ]
  },
  {
   "cell_type": "code",
   "execution_count": null,
   "id": "72b264e3",
   "metadata": {},
   "outputs": [],
   "source": [
    "tracker.follow(runnumber=\"830\")"
   ]
  },
  {
   "cell_type": "markdown",
   "id": "cc38fd03",
   "metadata": {},
   "source": [
    "## GET Positions"
   ]
  },
  {
   "cell_type": "code",
   "execution_count": null,
   "id": "281fcb3a",
   "metadata": {},
   "outputs": [],
   "source": [
    "tracker.positions(rt=\"red\")"
   ]
  },
  {
   "cell_type": "code",
   "execution_count": null,
   "id": "9603ff5a",
   "metadata": {},
   "outputs": [],
   "source": []
  }
 ],
 "metadata": {
  "kernelspec": {
   "display_name": "cta",
   "language": "python",
   "name": "python3"
  },
  "language_info": {
   "codemirror_mode": {
    "name": "ipython",
    "version": 3
   },
   "file_extension": ".py",
   "mimetype": "text/x-python",
   "name": "python",
   "nbconvert_exporter": "python",
   "pygments_lexer": "ipython3",
   "version": "3.13.5"
  }
 },
 "nbformat": 4,
 "nbformat_minor": 5
}
