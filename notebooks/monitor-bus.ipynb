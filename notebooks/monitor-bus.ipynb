{
 "cells": [
  {
   "cell_type": "code",
   "execution_count": 3,
   "metadata": {},
   "outputs": [
    {
     "name": "stderr",
     "output_type": "stream",
     "text": [
      "c:\\Users\\ryanf\\anaconda3\\envs\\cta\\Lib\\site-packages\\tqdm\\auto.py:21: TqdmWarning: IProgress not found. Please update jupyter and ipywidgets. See https://ipywidgets.readthedocs.io/en/stable/user_install.html\n",
      "  from .autonotebook import tqdm as notebook_tqdm\n"
     ]
    },
    {
     "data": {
      "text/plain": [
       "True"
      ]
     },
     "execution_count": 3,
     "metadata": {},
     "output_type": "execute_result"
    }
   ],
   "source": [
    "import os\n",
    "from cta import SimpleAPI\n",
    "from dotenv import load_dotenv\n",
    "import pandas as pd\n",
    "from tqdm.auto import tqdm\n",
    "tqdm.pandas()\n",
    "load_dotenv(override=True)"
   ]
  },
  {
   "cell_type": "code",
   "execution_count": 4,
   "metadata": {},
   "outputs": [],
   "source": [
    "tracker = SimpleAPI(key=os.environ['CTA_KEY'])"
   ]
  },
  {
   "cell_type": "code",
   "execution_count": 23,
   "metadata": {},
   "outputs": [
    {
     "data": {
      "text/plain": [
       "{'bustime-response': {'vehicle': [{'vid': '8452',\n",
       "    'tmstmp': '20240701 00:13:01',\n",
       "    'lat': '41.92516326904297',\n",
       "    'lon': '-87.64884948730469',\n",
       "    'hdg': '181',\n",
       "    'pid': 9368,\n",
       "    'rt': '8',\n",
       "    'des': '79th',\n",
       "    'pdist': 9338,\n",
       "    'dly': False,\n",
       "    'tatripid': '1021542',\n",
       "    'origtatripno': '256415182',\n",
       "    'tablockid': '8 -754',\n",
       "    'zone': '',\n",
       "    'mode': 1,\n",
       "    'psgld': 'N/A',\n",
       "    'stst': 87060,\n",
       "    'stsd': '2024-06-30'},\n",
       "   {'vid': '1282',\n",
       "    'tmstmp': '20240701 00:13:13',\n",
       "    'lat': '41.846940994262695',\n",
       "    'lon': '-87.64755140032086',\n",
       "    'hdg': '256',\n",
       "    'pid': 9368,\n",
       "    'rt': '8',\n",
       "    'des': '79th',\n",
       "    'pdist': 38148,\n",
       "    'dly': False,\n",
       "    'tatripid': '1021540',\n",
       "    'origtatripno': '256415178',\n",
       "    'tablockid': '8 -752',\n",
       "    'zone': '',\n",
       "    'mode': 1,\n",
       "    'psgld': 'N/A',\n",
       "    'stst': 84510,\n",
       "    'stsd': '2024-06-30'},\n",
       "   {'vid': '7931',\n",
       "    'tmstmp': '20240701 00:13:18',\n",
       "    'lat': '41.76709823608398',\n",
       "    'lon': '-87.64447021484375',\n",
       "    'hdg': '358',\n",
       "    'pid': 9376,\n",
       "    'rt': '8',\n",
       "    'des': 'Waveland/Broadway',\n",
       "    'pdist': 6406,\n",
       "    'dly': False,\n",
       "    'tatripid': '1021538',\n",
       "    'origtatripno': '256415089',\n",
       "    'tablockid': '8 -702',\n",
       "    'zone': '',\n",
       "    'mode': 1,\n",
       "    'psgld': 'N/A',\n",
       "    'stst': 86700,\n",
       "    'stsd': '2024-06-30'},\n",
       "   {'vid': '1341',\n",
       "    'tmstmp': '20240701 00:13:11',\n",
       "    'lat': '41.846847728147345',\n",
       "    'lon': '-87.64773520776781',\n",
       "    'hdg': '222',\n",
       "    'pid': 9376,\n",
       "    'rt': '8',\n",
       "    'des': 'Waveland/Broadway',\n",
       "    'pdist': 35984,\n",
       "    'dly': False,\n",
       "    'tatripid': '1021537',\n",
       "    'origtatripno': '256415086',\n",
       "    'tablockid': '8 -706',\n",
       "    'zone': '',\n",
       "    'mode': 1,\n",
       "    'psgld': 'N/A',\n",
       "    'stst': 85260,\n",
       "    'stsd': '2024-06-30'},\n",
       "   {'vid': '1264',\n",
       "    'tmstmp': '20240701 00:13:28',\n",
       "    'lat': '41.91001539963942',\n",
       "    'lon': '-87.64824676513672',\n",
       "    'hdg': '358',\n",
       "    'pid': 9376,\n",
       "    'rt': '8',\n",
       "    'des': 'Waveland/Broadway',\n",
       "    'pdist': 59847,\n",
       "    'dly': False,\n",
       "    'tatripid': '1021536',\n",
       "    'origtatripno': '256415078',\n",
       "    'tablockid': '8 -755',\n",
       "    'zone': '',\n",
       "    'mode': 1,\n",
       "    'psgld': 'N/A',\n",
       "    'stst': 83850,\n",
       "    'stsd': '2024-06-30'},\n",
       "   {'vid': '1024',\n",
       "    'tmstmp': '20240701 00:13:19',\n",
       "    'lat': '41.92509927749634',\n",
       "    'lon': '-87.66822814941406',\n",
       "    'hdg': '180',\n",
       "    'pid': 593,\n",
       "    'rt': '9',\n",
       "    'des': '95th Red Line',\n",
       "    'pdist': 13562,\n",
       "    'dly': False,\n",
       "    'tatripid': '106861',\n",
       "    'origtatripno': '256440030',\n",
       "    'tablockid': 'N9  -695',\n",
       "    'zone': '',\n",
       "    'mode': 1,\n",
       "    'psgld': 'N/A',\n",
       "    'stst': 120,\n",
       "    'stsd': '2024-07-01'},\n",
       "   {'vid': '1369',\n",
       "    'tmstmp': '20240701 00:13:16',\n",
       "    'lat': '41.81645228068034',\n",
       "    'lon': '-87.66522979736328',\n",
       "    'hdg': '179',\n",
       "    'pid': 593,\n",
       "    'rt': '9',\n",
       "    'des': '95th Red Line',\n",
       "    'pdist': 54127,\n",
       "    'dly': False,\n",
       "    'tatripid': '106860',\n",
       "    'origtatripno': '256440423',\n",
       "    'tablockid': 'N9  -694',\n",
       "    'zone': '',\n",
       "    'mode': 1,\n",
       "    'psgld': 'N/A',\n",
       "    'stst': -1980,\n",
       "    'stsd': '2024-07-01'},\n",
       "   {'vid': '8071',\n",
       "    'tmstmp': '20240701 00:13:23',\n",
       "    'lat': '41.77394027709961',\n",
       "    'lon': '-87.66414642333984',\n",
       "    'hdg': '178',\n",
       "    'pid': 593,\n",
       "    'rt': '9',\n",
       "    'des': '95th Red Line',\n",
       "    'pdist': 69659,\n",
       "    'dly': False,\n",
       "    'tatripid': '106859',\n",
       "    'origtatripno': '256440444',\n",
       "    'tablockid': 'N9  -693',\n",
       "    'zone': '',\n",
       "    'mode': 1,\n",
       "    'psgld': 'N/A',\n",
       "    'stst': -3030,\n",
       "    'stsd': '2024-07-01'},\n",
       "   {'vid': '8045',\n",
       "    'tmstmp': '20240701 00:13:16',\n",
       "    'lat': '41.72149780818394',\n",
       "    'lon': '-87.63843427385602',\n",
       "    'hdg': '89',\n",
       "    'pid': 593,\n",
       "    'rt': '9',\n",
       "    'des': '95th Red Line',\n",
       "    'pdist': 95570,\n",
       "    'dly': False,\n",
       "    'tatripid': '106858',\n",
       "    'origtatripno': '256440106',\n",
       "    'tablockid': 'N9  -692',\n",
       "    'zone': '',\n",
       "    'mode': 1,\n",
       "    'psgld': 'N/A',\n",
       "    'stst': -5100,\n",
       "    'stsd': '2024-07-01'},\n",
       "   {'vid': '8063',\n",
       "    'tmstmp': '20240701 00:12:58',\n",
       "    'lat': '41.87372613989788',\n",
       "    'lon': '-87.66665815270466',\n",
       "    'hdg': '178',\n",
       "    'pid': 1600,\n",
       "    'rt': '9',\n",
       "    'des': '95th',\n",
       "    'pdist': 32382,\n",
       "    'dly': False,\n",
       "    'tatripid': '192',\n",
       "    'origtatripno': '256438717',\n",
       "    'tablockid': '9 -607',\n",
       "    'zone': '',\n",
       "    'mode': 1,\n",
       "    'psgld': 'N/A',\n",
       "    'stst': 85470,\n",
       "    'stsd': '2024-06-30'},\n",
       "   {'vid': '8055',\n",
       "    'tmstmp': '20240701 00:13:16',\n",
       "    'lat': '41.731449127197266',\n",
       "    'lon': '-87.66284942626953',\n",
       "    'hdg': '0',\n",
       "    'pid': 3637,\n",
       "    'rt': '9',\n",
       "    'des': '74th',\n",
       "    'pdist': 4139,\n",
       "    'dly': False,\n",
       "    'tatripid': '365',\n",
       "    'origtatripno': '256438769',\n",
       "    'tablockid': '9 -605',\n",
       "    'zone': '',\n",
       "    'mode': 1,\n",
       "    'psgld': 'N/A',\n",
       "    'stst': 86940,\n",
       "    'stsd': '2024-06-30'},\n",
       "   {'vid': '8008',\n",
       "    'tmstmp': '20240701 00:13:13',\n",
       "    'lat': '41.721012115478516',\n",
       "    'lon': '-87.6239013671875',\n",
       "    'hdg': '186',\n",
       "    'pid': 4680,\n",
       "    'rt': '9',\n",
       "    'des': 'North/Clark',\n",
       "    'pdist': 245,\n",
       "    'dly': False,\n",
       "    'tatripid': '106850',\n",
       "    'origtatripno': '256440442',\n",
       "    'tablockid': 'N9  -691',\n",
       "    'zone': '',\n",
       "    'mode': 1,\n",
       "    'psgld': 'N/A',\n",
       "    'stst': 960,\n",
       "    'stsd': '2024-07-01'},\n",
       "   {'vid': '1473',\n",
       "    'tmstmp': '20240701 00:13:11',\n",
       "    'lat': '41.76062968420604',\n",
       "    'lon': '-87.66358184814453',\n",
       "    'hdg': '1',\n",
       "    'pid': 9372,\n",
       "    'rt': '9',\n",
       "    'des': 'Irving Park',\n",
       "    'pdist': 14802,\n",
       "    'dly': False,\n",
       "    'tatripid': '96',\n",
       "    'origtatripno': '256438865',\n",
       "    'tablockid': '9 -616',\n",
       "    'zone': '',\n",
       "    'mode': 1,\n",
       "    'psgld': 'N/A',\n",
       "    'stst': 86400,\n",
       "    'stsd': '2024-06-30'},\n",
       "   {'vid': '8005',\n",
       "    'tmstmp': '20240701 00:13:15',\n",
       "    'lat': '41.839150746663414',\n",
       "    'lon': '-87.66527557373047',\n",
       "    'hdg': '238',\n",
       "    'pid': 9372,\n",
       "    'rt': '9',\n",
       "    'des': 'Irving Park',\n",
       "    'pdist': 43955,\n",
       "    'dly': False,\n",
       "    'tatripid': '106849',\n",
       "    'origtatripno': '256442303',\n",
       "    'tablockid': 'N9  -697',\n",
       "    'zone': '',\n",
       "    'mode': 1,\n",
       "    'psgld': 'N/A',\n",
       "    'stst': -1200,\n",
       "    'stsd': '2024-07-01'},\n",
       "   {'vid': '8007',\n",
       "    'tmstmp': '20240701 00:13:24',\n",
       "    'lat': '41.89150563681998',\n",
       "    'lon': '-87.6670913696289',\n",
       "    'hdg': '353',\n",
       "    'pid': 9372,\n",
       "    'rt': '9',\n",
       "    'des': 'Irving Park',\n",
       "    'pdist': 63235,\n",
       "    'dly': False,\n",
       "    'tatripid': '94',\n",
       "    'origtatripno': '256438815',\n",
       "    'tablockid': 'N9  -696',\n",
       "    'zone': '',\n",
       "    'mode': 1,\n",
       "    'psgld': 'N/A',\n",
       "    'stst': 84000,\n",
       "    'stsd': '2024-06-30'},\n",
       "   {'vid': '1575',\n",
       "    'tmstmp': '20240701 00:13:04',\n",
       "    'lat': '41.9539740822532',\n",
       "    'lon': '-87.66897555264559',\n",
       "    'hdg': '347',\n",
       "    'pid': 9372,\n",
       "    'rt': '9',\n",
       "    'des': 'Irving Park',\n",
       "    'pdist': 86088,\n",
       "    'dly': False,\n",
       "    'tatripid': '106848',\n",
       "    'origtatripno': '256442300',\n",
       "    'tablockid': 'N9  -696',\n",
       "    'zone': '',\n",
       "    'mode': 1,\n",
       "    'psgld': 'N/A',\n",
       "    'stst': -3600,\n",
       "    'stsd': '2024-07-01'},\n",
       "   {'vid': '1508',\n",
       "    'tmstmp': '20240701 00:13:26',\n",
       "    'lat': '41.95590454101563',\n",
       "    'lon': '-87.66319427490234',\n",
       "    'hdg': '335',\n",
       "    'pid': 9372,\n",
       "    'rt': '9',\n",
       "    'des': 'Irving Park',\n",
       "    'pdist': 88635,\n",
       "    'dly': True,\n",
       "    'tatripid': '92',\n",
       "    'origtatripno': '256438746',\n",
       "    'tablockid': '9 -608',\n",
       "    'zone': '',\n",
       "    'mode': 1,\n",
       "    'psgld': 'N/A',\n",
       "    'stst': 81600,\n",
       "    'stsd': '2024-06-30'}]}}"
      ]
     },
     "execution_count": 23,
     "metadata": {},
     "output_type": "execute_result"
    }
   ],
   "source": [
    "tracker.getvehicles(rt='8,9')"
   ]
  },
  {
   "cell_type": "code",
   "execution_count": 6,
   "metadata": {},
   "outputs": [
    {
     "data": {
      "text/plain": [
       "{'bustime-response': {'prd': [{'tmstmp': '20240630 23:51:16',\n",
       "    'typ': 'A',\n",
       "    'stpnm': 'Halsted & Chicago',\n",
       "    'stpid': '15347',\n",
       "    'vid': '7986',\n",
       "    'dstp': 23805,\n",
       "    'rt': '8',\n",
       "    'rtdd': '8',\n",
       "    'rtdir': 'Southbound',\n",
       "    'des': '79th',\n",
       "    'prdtm': '20240701 00:14:21',\n",
       "    'tablockid': '8 -753',\n",
       "    'tatripid': '1021541',\n",
       "    'origtatripno': '256415179',\n",
       "    'dly': False,\n",
       "    'dyn': 0,\n",
       "    'prdctdn': '22',\n",
       "    'zone': '',\n",
       "    'psgld': '',\n",
       "    'stst': 85710,\n",
       "    'stsd': '2024-06-30',\n",
       "    'flagstop': 0},\n",
       "   {'tmstmp': '20240630 23:51:35',\n",
       "    'typ': 'A',\n",
       "    'stpnm': 'Halsted & Chicago',\n",
       "    'stpid': '15347',\n",
       "    'vid': '1232',\n",
       "    'dstp': 24008,\n",
       "    'rt': '8',\n",
       "    'rtdd': '8',\n",
       "    'rtdir': 'Southbound',\n",
       "    'des': '79th',\n",
       "    'prdtm': '20240701 00:16:34',\n",
       "    'tablockid': '8 -751',\n",
       "    'tatripid': '1021532',\n",
       "    'origtatripno': '256415171',\n",
       "    'dly': False,\n",
       "    'dyn': 0,\n",
       "    'prdctdn': '24',\n",
       "    'zone': '',\n",
       "    'psgld': '',\n",
       "    'stst': 83370,\n",
       "    'stsd': '2024-06-30',\n",
       "    'flagstop': 0}]}}"
      ]
     },
     "execution_count": 6,
     "metadata": {},
     "output_type": "execute_result"
    }
   ],
   "source": [
    "tracker.getpredictions(stpid='15347')"
   ]
  },
  {
   "cell_type": "code",
   "execution_count": 5,
   "metadata": {},
   "outputs": [
    {
     "name": "stdout",
     "output_type": "stream",
     "text": [
      "Collecting folium\n",
      "  Downloading folium-0.17.0-py2.py3-none-any.whl (108 kB)\n",
      "                                              0.0/108.4 kB ? eta -:--:--\n",
      "     ------                                20.5/108.4 kB 330.3 kB/s eta 0:00:01\n",
      "     -------------                         41.0/108.4 kB 393.8 kB/s eta 0:00:01\n",
      "     ------------------------------------ 108.4/108.4 kB 785.4 kB/s eta 0:00:00\n",
      "Collecting branca>=0.6.0 (from folium)\n",
      "  Downloading branca-0.7.2-py3-none-any.whl (25 kB)\n",
      "Collecting jinja2>=2.9 (from folium)\n",
      "  Downloading jinja2-3.1.4-py3-none-any.whl (133 kB)\n",
      "                                              0.0/133.3 kB ? eta -:--:--\n",
      "     -------------------------------------- 133.3/133.3 kB 4.0 MB/s eta 0:00:00\n",
      "Requirement already satisfied: numpy in c:\\users\\ryanf\\anaconda3\\envs\\cta\\lib\\site-packages (from folium) (1.26.4)\n",
      "Requirement already satisfied: requests in c:\\users\\ryanf\\anaconda3\\envs\\cta\\lib\\site-packages (from folium) (2.31.0)\n",
      "Collecting xyzservices (from folium)\n",
      "  Downloading xyzservices-2024.6.0-py3-none-any.whl (83 kB)\n",
      "                                              0.0/83.9 kB ? eta -:--:--\n",
      "     ---------------------------------------- 83.9/83.9 kB ? eta 0:00:00\n",
      "Collecting MarkupSafe>=2.0 (from jinja2>=2.9->folium)\n",
      "  Downloading MarkupSafe-2.1.5-cp311-cp311-win_amd64.whl (17 kB)\n",
      "Requirement already satisfied: charset-normalizer<4,>=2 in c:\\users\\ryanf\\anaconda3\\envs\\cta\\lib\\site-packages (from requests->folium) (3.1.0)\n",
      "Requirement already satisfied: idna<4,>=2.5 in c:\\users\\ryanf\\anaconda3\\envs\\cta\\lib\\site-packages (from requests->folium) (3.4)\n",
      "Requirement already satisfied: urllib3<3,>=1.21.1 in c:\\users\\ryanf\\anaconda3\\envs\\cta\\lib\\site-packages (from requests->folium) (2.0.3)\n",
      "Requirement already satisfied: certifi>=2017.4.17 in c:\\users\\ryanf\\anaconda3\\envs\\cta\\lib\\site-packages (from requests->folium) (2023.5.7)\n",
      "Installing collected packages: xyzservices, MarkupSafe, jinja2, branca, folium\n",
      "Successfully installed MarkupSafe-2.1.5 branca-0.7.2 folium-0.17.0 jinja2-3.1.4 xyzservices-2024.6.0\n"
     ]
    },
    {
     "name": "stderr",
     "output_type": "stream",
     "text": [
      "WARNING: There was an error checking the latest version of pip.\n"
     ]
    }
   ],
   "source": [
    "!pip install folium"
   ]
  },
  {
   "cell_type": "code",
   "execution_count": 21,
   "metadata": {},
   "outputs": [
    {
     "data": {
      "text/html": [
       "<div style=\"width:100%;\"><div style=\"position:relative;width:100%;height:0;padding-bottom:60%;\"><span style=\"color:#565656\">Make this Notebook Trusted to load map: File -> Trust Notebook</span><iframe srcdoc=\"&lt;!DOCTYPE html&gt;\n",
       "&lt;html&gt;\n",
       "&lt;head&gt;\n",
       "    \n",
       "    &lt;meta http-equiv=&quot;content-type&quot; content=&quot;text/html; charset=UTF-8&quot; /&gt;\n",
       "    \n",
       "        &lt;script&gt;\n",
       "            L_NO_TOUCH = false;\n",
       "            L_DISABLE_3D = false;\n",
       "        &lt;/script&gt;\n",
       "    \n",
       "    &lt;style&gt;html, body {width: 100%;height: 100%;margin: 0;padding: 0;}&lt;/style&gt;\n",
       "    &lt;style&gt;#map {position:absolute;top:0;bottom:0;right:0;left:0;}&lt;/style&gt;\n",
       "    &lt;script src=&quot;https://cdn.jsdelivr.net/npm/leaflet@1.9.3/dist/leaflet.js&quot;&gt;&lt;/script&gt;\n",
       "    &lt;script src=&quot;https://code.jquery.com/jquery-3.7.1.min.js&quot;&gt;&lt;/script&gt;\n",
       "    &lt;script src=&quot;https://cdn.jsdelivr.net/npm/bootstrap@5.2.2/dist/js/bootstrap.bundle.min.js&quot;&gt;&lt;/script&gt;\n",
       "    &lt;script src=&quot;https://cdnjs.cloudflare.com/ajax/libs/Leaflet.awesome-markers/2.0.2/leaflet.awesome-markers.js&quot;&gt;&lt;/script&gt;\n",
       "    &lt;link rel=&quot;stylesheet&quot; href=&quot;https://cdn.jsdelivr.net/npm/leaflet@1.9.3/dist/leaflet.css&quot;/&gt;\n",
       "    &lt;link rel=&quot;stylesheet&quot; href=&quot;https://cdn.jsdelivr.net/npm/bootstrap@5.2.2/dist/css/bootstrap.min.css&quot;/&gt;\n",
       "    &lt;link rel=&quot;stylesheet&quot; href=&quot;https://netdna.bootstrapcdn.com/bootstrap/3.0.0/css/bootstrap-glyphicons.css&quot;/&gt;\n",
       "    &lt;link rel=&quot;stylesheet&quot; href=&quot;https://cdn.jsdelivr.net/npm/@fortawesome/fontawesome-free@6.2.0/css/all.min.css&quot;/&gt;\n",
       "    &lt;link rel=&quot;stylesheet&quot; href=&quot;https://cdnjs.cloudflare.com/ajax/libs/Leaflet.awesome-markers/2.0.2/leaflet.awesome-markers.css&quot;/&gt;\n",
       "    &lt;link rel=&quot;stylesheet&quot; href=&quot;https://cdn.jsdelivr.net/gh/python-visualization/folium/folium/templates/leaflet.awesome.rotate.min.css&quot;/&gt;\n",
       "    \n",
       "            &lt;meta name=&quot;viewport&quot; content=&quot;width=device-width,\n",
       "                initial-scale=1.0, maximum-scale=1.0, user-scalable=no&quot; /&gt;\n",
       "            &lt;style&gt;\n",
       "                #map_b3afccb256b550d8537a1e3be874b300 {\n",
       "                    position: relative;\n",
       "                    width: 100.0%;\n",
       "                    height: 100.0%;\n",
       "                    left: 0.0%;\n",
       "                    top: 0.0%;\n",
       "                }\n",
       "                .leaflet-container { font-size: 1rem; }\n",
       "            &lt;/style&gt;\n",
       "        \n",
       "&lt;/head&gt;\n",
       "&lt;body&gt;\n",
       "    \n",
       "    \n",
       "            &lt;div class=&quot;folium-map&quot; id=&quot;map_b3afccb256b550d8537a1e3be874b300&quot; &gt;&lt;/div&gt;\n",
       "        \n",
       "&lt;/body&gt;\n",
       "&lt;script&gt;\n",
       "    \n",
       "    \n",
       "            var map_b3afccb256b550d8537a1e3be874b300 = L.map(\n",
       "                &quot;map_b3afccb256b550d8537a1e3be874b300&quot;,\n",
       "                {\n",
       "                    center: [41.925518333333336, -87.64919441624691],\n",
       "                    crs: L.CRS.EPSG3857,\n",
       "                    zoom: 10,\n",
       "                    zoomControl: true,\n",
       "                    preferCanvas: false,\n",
       "                }\n",
       "            );\n",
       "\n",
       "            \n",
       "\n",
       "        \n",
       "    \n",
       "            var tile_layer_b7ce7b6570c31f9b9046b3bfb3ccf51d = L.tileLayer(\n",
       "                &quot;https://tile.openstreetmap.org/{z}/{x}/{y}.png&quot;,\n",
       "                {&quot;attribution&quot;: &quot;\\u0026copy; \\u003ca href=\\&quot;https://www.openstreetmap.org/copyright\\&quot;\\u003eOpenStreetMap\\u003c/a\\u003e contributors&quot;, &quot;detectRetina&quot;: false, &quot;maxNativeZoom&quot;: 19, &quot;maxZoom&quot;: 19, &quot;minZoom&quot;: 0, &quot;noWrap&quot;: false, &quot;opacity&quot;: 1, &quot;subdomains&quot;: &quot;abc&quot;, &quot;tms&quot;: false}\n",
       "            );\n",
       "        \n",
       "    \n",
       "            tile_layer_b7ce7b6570c31f9b9046b3bfb3ccf51d.addTo(map_b3afccb256b550d8537a1e3be874b300);\n",
       "        \n",
       "    \n",
       "            var marker_7a25f42e6d78a404b7013802e427b3ba = L.marker(\n",
       "                [41.925518333333336, -87.64919441624691],\n",
       "                {}\n",
       "            ).addTo(map_b3afccb256b550d8537a1e3be874b300);\n",
       "        \n",
       "    \n",
       "            var icon_5cd39dbebb79b16cdfbba89c1c12965c = L.AwesomeMarkers.icon(\n",
       "                {&quot;extraClasses&quot;: &quot;fa-rotate-0&quot;, &quot;icon&quot;: &quot;info-sign&quot;, &quot;iconColor&quot;: &quot;white&quot;, &quot;markerColor&quot;: &quot;green&quot;, &quot;prefix&quot;: &quot;glyphicon&quot;}\n",
       "            );\n",
       "            marker_7a25f42e6d78a404b7013802e427b3ba.setIcon(icon_5cd39dbebb79b16cdfbba89c1c12965c);\n",
       "        \n",
       "    \n",
       "        var popup_5f048eb24d529405197cc4484051f89d = L.popup({&quot;maxWidth&quot;: &quot;100%&quot;});\n",
       "\n",
       "        \n",
       "            \n",
       "                var html_59dfd2f32aee704da848de3a19f4b740 = $(`&lt;div id=&quot;html_59dfd2f32aee704da848de3a19f4b740&quot; style=&quot;width: 100.0%; height: 100.0%;&quot;&gt;Timberline Lodge&lt;/div&gt;`)[0];\n",
       "                popup_5f048eb24d529405197cc4484051f89d.setContent(html_59dfd2f32aee704da848de3a19f4b740);\n",
       "            \n",
       "        \n",
       "\n",
       "        marker_7a25f42e6d78a404b7013802e427b3ba.bindPopup(popup_5f048eb24d529405197cc4484051f89d)\n",
       "        ;\n",
       "\n",
       "        \n",
       "    \n",
       "    \n",
       "            marker_7a25f42e6d78a404b7013802e427b3ba.bindTooltip(\n",
       "                `&lt;div&gt;\n",
       "                     Click me!\n",
       "                 &lt;/div&gt;`,\n",
       "                {&quot;sticky&quot;: true}\n",
       "            );\n",
       "        \n",
       "&lt;/script&gt;\n",
       "&lt;/html&gt;\" style=\"position:absolute;width:100%;height:100%;left:0;top:0;border:none !important;\" allowfullscreen webkitallowfullscreen mozallowfullscreen></iframe></div></div>"
      ],
      "text/plain": [
       "<folium.folium.Map at 0x25ab00dff10>"
      ]
     },
     "execution_count": 21,
     "metadata": {},
     "output_type": "execute_result"
    }
   ],
   "source": [
    "import folium\n",
    "m = folium.Map(location=(41.925518333333336, -87.64919441624691))\n",
    "\n",
    "folium.Marker(\n",
    "    location=[41.925518333333336, -87.64919441624691],\n",
    "    tooltip=\"Click me!\",\n",
    "    popup=\"Timberline Lodge\",\n",
    "    icon=folium.Icon(color=\"green\"),\n",
    ").add_to(m)\n",
    "\n",
    "m"
   ]
  },
  {
   "cell_type": "code",
   "execution_count": 8,
   "metadata": {},
   "outputs": [
    {
     "data": {
      "text/plain": [
       "dict_keys(['bustime-response'])"
      ]
     },
     "execution_count": 8,
     "metadata": {},
     "output_type": "execute_result"
    }
   ],
   "source": [
    "pattern = tracker.getpatterns(rt='8')\n",
    "pattern.keys()"
   ]
  },
  {
   "cell_type": "code",
   "execution_count": 9,
   "metadata": {},
   "outputs": [
    {
     "data": {
      "text/plain": [
       "dict_keys(['ptr'])"
      ]
     },
     "execution_count": 9,
     "metadata": {},
     "output_type": "execute_result"
    }
   ],
   "source": [
    "pattern['bustime-response'].keys()"
   ]
  },
  {
   "cell_type": "code",
   "execution_count": 14,
   "metadata": {},
   "outputs": [
    {
     "data": {
      "text/plain": [
       "dict_keys(['pid', 'ln', 'rtdir', 'pt'])"
      ]
     },
     "execution_count": 14,
     "metadata": {},
     "output_type": "execute_result"
    }
   ],
   "source": [
    "pattern['bustime-response']['ptr'][0].keys()"
   ]
  },
  {
   "cell_type": "code",
   "execution_count": 19,
   "metadata": {},
   "outputs": [],
   "source": [
    "coords = [(pat['lat'], pat['lon']) for pat in pattern['bustime-response']['ptr'][0]['pt']]"
   ]
  },
  {
   "cell_type": "code",
   "execution_count": 22,
   "metadata": {},
   "outputs": [
    {
     "data": {
      "text/html": [
       "<div style=\"width:100%;\"><div style=\"position:relative;width:100%;height:0;padding-bottom:60%;\"><span style=\"color:#565656\">Make this Notebook Trusted to load map: File -> Trust Notebook</span><iframe srcdoc=\"&lt;!DOCTYPE html&gt;\n",
       "&lt;html&gt;\n",
       "&lt;head&gt;\n",
       "    \n",
       "    &lt;meta http-equiv=&quot;content-type&quot; content=&quot;text/html; charset=UTF-8&quot; /&gt;\n",
       "    \n",
       "        &lt;script&gt;\n",
       "            L_NO_TOUCH = false;\n",
       "            L_DISABLE_3D = false;\n",
       "        &lt;/script&gt;\n",
       "    \n",
       "    &lt;style&gt;html, body {width: 100%;height: 100%;margin: 0;padding: 0;}&lt;/style&gt;\n",
       "    &lt;style&gt;#map {position:absolute;top:0;bottom:0;right:0;left:0;}&lt;/style&gt;\n",
       "    &lt;script src=&quot;https://cdn.jsdelivr.net/npm/leaflet@1.9.3/dist/leaflet.js&quot;&gt;&lt;/script&gt;\n",
       "    &lt;script src=&quot;https://code.jquery.com/jquery-3.7.1.min.js&quot;&gt;&lt;/script&gt;\n",
       "    &lt;script src=&quot;https://cdn.jsdelivr.net/npm/bootstrap@5.2.2/dist/js/bootstrap.bundle.min.js&quot;&gt;&lt;/script&gt;\n",
       "    &lt;script src=&quot;https://cdnjs.cloudflare.com/ajax/libs/Leaflet.awesome-markers/2.0.2/leaflet.awesome-markers.js&quot;&gt;&lt;/script&gt;\n",
       "    &lt;link rel=&quot;stylesheet&quot; href=&quot;https://cdn.jsdelivr.net/npm/leaflet@1.9.3/dist/leaflet.css&quot;/&gt;\n",
       "    &lt;link rel=&quot;stylesheet&quot; href=&quot;https://cdn.jsdelivr.net/npm/bootstrap@5.2.2/dist/css/bootstrap.min.css&quot;/&gt;\n",
       "    &lt;link rel=&quot;stylesheet&quot; href=&quot;https://netdna.bootstrapcdn.com/bootstrap/3.0.0/css/bootstrap-glyphicons.css&quot;/&gt;\n",
       "    &lt;link rel=&quot;stylesheet&quot; href=&quot;https://cdn.jsdelivr.net/npm/@fortawesome/fontawesome-free@6.2.0/css/all.min.css&quot;/&gt;\n",
       "    &lt;link rel=&quot;stylesheet&quot; href=&quot;https://cdnjs.cloudflare.com/ajax/libs/Leaflet.awesome-markers/2.0.2/leaflet.awesome-markers.css&quot;/&gt;\n",
       "    &lt;link rel=&quot;stylesheet&quot; href=&quot;https://cdn.jsdelivr.net/gh/python-visualization/folium/folium/templates/leaflet.awesome.rotate.min.css&quot;/&gt;\n",
       "    \n",
       "            &lt;meta name=&quot;viewport&quot; content=&quot;width=device-width,\n",
       "                initial-scale=1.0, maximum-scale=1.0, user-scalable=no&quot; /&gt;\n",
       "            &lt;style&gt;\n",
       "                #map_b3afccb256b550d8537a1e3be874b300 {\n",
       "                    position: relative;\n",
       "                    width: 100.0%;\n",
       "                    height: 100.0%;\n",
       "                    left: 0.0%;\n",
       "                    top: 0.0%;\n",
       "                }\n",
       "                .leaflet-container { font-size: 1rem; }\n",
       "            &lt;/style&gt;\n",
       "        \n",
       "&lt;/head&gt;\n",
       "&lt;body&gt;\n",
       "    \n",
       "    \n",
       "            &lt;div class=&quot;folium-map&quot; id=&quot;map_b3afccb256b550d8537a1e3be874b300&quot; &gt;&lt;/div&gt;\n",
       "        \n",
       "&lt;/body&gt;\n",
       "&lt;script&gt;\n",
       "    \n",
       "    \n",
       "            var map_b3afccb256b550d8537a1e3be874b300 = L.map(\n",
       "                &quot;map_b3afccb256b550d8537a1e3be874b300&quot;,\n",
       "                {\n",
       "                    center: [41.925518333333336, -87.64919441624691],\n",
       "                    crs: L.CRS.EPSG3857,\n",
       "                    zoom: 10,\n",
       "                    zoomControl: true,\n",
       "                    preferCanvas: false,\n",
       "                }\n",
       "            );\n",
       "\n",
       "            \n",
       "\n",
       "        \n",
       "    \n",
       "            var tile_layer_b7ce7b6570c31f9b9046b3bfb3ccf51d = L.tileLayer(\n",
       "                &quot;https://tile.openstreetmap.org/{z}/{x}/{y}.png&quot;,\n",
       "                {&quot;attribution&quot;: &quot;\\u0026copy; \\u003ca href=\\&quot;https://www.openstreetmap.org/copyright\\&quot;\\u003eOpenStreetMap\\u003c/a\\u003e contributors&quot;, &quot;detectRetina&quot;: false, &quot;maxNativeZoom&quot;: 19, &quot;maxZoom&quot;: 19, &quot;minZoom&quot;: 0, &quot;noWrap&quot;: false, &quot;opacity&quot;: 1, &quot;subdomains&quot;: &quot;abc&quot;, &quot;tms&quot;: false}\n",
       "            );\n",
       "        \n",
       "    \n",
       "            tile_layer_b7ce7b6570c31f9b9046b3bfb3ccf51d.addTo(map_b3afccb256b550d8537a1e3be874b300);\n",
       "        \n",
       "    \n",
       "            var marker_7a25f42e6d78a404b7013802e427b3ba = L.marker(\n",
       "                [41.925518333333336, -87.64919441624691],\n",
       "                {}\n",
       "            ).addTo(map_b3afccb256b550d8537a1e3be874b300);\n",
       "        \n",
       "    \n",
       "            var icon_5cd39dbebb79b16cdfbba89c1c12965c = L.AwesomeMarkers.icon(\n",
       "                {&quot;extraClasses&quot;: &quot;fa-rotate-0&quot;, &quot;icon&quot;: &quot;info-sign&quot;, &quot;iconColor&quot;: &quot;white&quot;, &quot;markerColor&quot;: &quot;green&quot;, &quot;prefix&quot;: &quot;glyphicon&quot;}\n",
       "            );\n",
       "            marker_7a25f42e6d78a404b7013802e427b3ba.setIcon(icon_5cd39dbebb79b16cdfbba89c1c12965c);\n",
       "        \n",
       "    \n",
       "        var popup_5f048eb24d529405197cc4484051f89d = L.popup({&quot;maxWidth&quot;: &quot;100%&quot;});\n",
       "\n",
       "        \n",
       "            \n",
       "                var html_59dfd2f32aee704da848de3a19f4b740 = $(`&lt;div id=&quot;html_59dfd2f32aee704da848de3a19f4b740&quot; style=&quot;width: 100.0%; height: 100.0%;&quot;&gt;Timberline Lodge&lt;/div&gt;`)[0];\n",
       "                popup_5f048eb24d529405197cc4484051f89d.setContent(html_59dfd2f32aee704da848de3a19f4b740);\n",
       "            \n",
       "        \n",
       "\n",
       "        marker_7a25f42e6d78a404b7013802e427b3ba.bindPopup(popup_5f048eb24d529405197cc4484051f89d)\n",
       "        ;\n",
       "\n",
       "        \n",
       "    \n",
       "    \n",
       "            marker_7a25f42e6d78a404b7013802e427b3ba.bindTooltip(\n",
       "                `&lt;div&gt;\n",
       "                     Click me!\n",
       "                 &lt;/div&gt;`,\n",
       "                {&quot;sticky&quot;: true}\n",
       "            );\n",
       "        \n",
       "    \n",
       "            tile_layer_b7ce7b6570c31f9b9046b3bfb3ccf51d.addTo(map_b3afccb256b550d8537a1e3be874b300);\n",
       "        \n",
       "    \n",
       "            var poly_line_61c3d0c07c4efe5ae4bf298bbae9c2ac = L.polyline(\n",
       "                [[41.749730000001, -87.643648000001], [41.74976, -87.64365], [41.74976, -87.64401], [41.75098, -87.64404], [41.750982, -87.643961999999], [41.75098, -87.64404], [41.75233, -87.64407], [41.752331999999, -87.644010000001], [41.75233, -87.64407], [41.75461, -87.64414], [41.754608000001, -87.644064000002], [41.75461, -87.64414], [41.75636, -87.64421], [41.756358000001, -87.644117999998], [41.75636, -87.64421], [41.75762, -87.64422], [41.757622999999, -87.644144], [41.75762, -87.64422], [41.75962, -87.64428], [41.759621999999, -87.644194000001], [41.75962, -87.64428], [41.76147, -87.64432], [41.761470000001, -87.644243999999], [41.76147, -87.64432], [41.76328, -87.64435], [41.763279999999, -87.644299999999], [41.76328, -87.64435], [41.76508, -87.64441], [41.765084000001, -87.644336000001], [41.76508, -87.64441], [41.76691, -87.64447], [41.766908, -87.644375999999], [41.76691, -87.64447], [41.76916, -87.64452], [41.769164, -87.644431], [41.76916, -87.64452], [41.77055, -87.64456], [41.770548, -87.644471999998], [41.77055, -87.64456], [41.77236, -87.64459], [41.772363000001, -87.644515], [41.77236, -87.64459], [41.77419, -87.64464], [41.774192, -87.644537999998], [41.77419, -87.64464], [41.77637, -87.64469], [41.77647, -87.64465], [41.776417999999, -87.644591999999], [41.77647, -87.64465], [41.77874, -87.6447], [41.778726, -87.644654999999], [41.77874, -87.6447], [41.77978, -87.64471], [41.78013, -87.64473], [41.780115999999, -87.644679], [41.78013, -87.64473], [41.78201, -87.64479], [41.782013999999, -87.644740000001], [41.78201, -87.64479], [41.78231, -87.64487], [41.78326, -87.64487], [41.783266000001, -87.644768999999], [41.78326, -87.64487], [41.78489, -87.64491], [41.784894, -87.644811999998], [41.78489, -87.64491], [41.7874, -87.64498], [41.787399, -87.644896000001], [41.7874, -87.64498], [41.78875, -87.64498], [41.788752999999, -87.644934000001], [41.78875, -87.64498], [41.79097, -87.64506], [41.790972, -87.644992000002], [41.79097, -87.64506], [41.79234, -87.6451], [41.792342, -87.645030000001], [41.79234, -87.6451], [41.79385, -87.64513], [41.793847000001, -87.645067999999], [41.79385, -87.64513], [41.79454, -87.64517], [41.794536999999, -87.645071000002], [41.79454, -87.64517], [41.79604, -87.64521], [41.796033, -87.645126999999], [41.79604, -87.64521], [41.79826, -87.64526], [41.798226, -87.645183999999], [41.79826, -87.64526], [41.79965, -87.6453], [41.799648999999, -87.645218000001], [41.79965, -87.6453], [41.80148, -87.64534], [41.801480000001, -87.645263], [41.80148, -87.64534], [41.8033, -87.64539], [41.803299000001, -87.645315], [41.8033, -87.64539], [41.80555, -87.64545], [41.805511000001, -87.645367], [41.80555, -87.64545], [41.80693, -87.64548], [41.806929, -87.645403], [41.80693, -87.64548], [41.80928, -87.64555], [41.809257000001, -87.645444999998], [41.80928, -87.64555], [41.8106, -87.64558], [41.810599000001, -87.645480999999], [41.8106, -87.64558], [41.81282, -87.64564], [41.812825999999, -87.645535999999], [41.81282, -87.64564], [41.81472, -87.64569], [41.814716999999, -87.645605000001], [41.81472, -87.64569], [41.81608, -87.64572], [41.816078999999, -87.645635], [41.81608, -87.64572], [41.81747, -87.64577], [41.817362, -87.645697999999], [41.81747, -87.64577], [41.81806, -87.64578], [41.81813, -87.64572], [41.81855, -87.64573], [41.818553, -87.645701000001], [41.81855, -87.64573], [41.8202, -87.64581], [41.820207, -87.64575], [41.8202, -87.64581], [41.82334, -87.64588], [41.823340999999, -87.645825], [41.82334, -87.64588], [41.82516, -87.64597], [41.825163, -87.645896999999], [41.82516, -87.64597], [41.82699, -87.64601], [41.826991000001, -87.645942999999], [41.82699, -87.64601], [41.82883, -87.64605], [41.828830000001, -87.645990999998], [41.82883, -87.64605], [41.83062, -87.6461], [41.830623999999, -87.646018000001], [41.83062, -87.6461], [41.83247, -87.64613], [41.832475000001, -87.646071], [41.83247, -87.64613], [41.83428, -87.64619], [41.834283999999, -87.646115], [41.83428, -87.64619], [41.83635, -87.64622], [41.836355, -87.646160000001], [41.83635, -87.64622], [41.83835, -87.64627], [41.838351999999, -87.646190999999], [41.83835, -87.64627], [41.84019, -87.64633], [41.840185999999, -87.646241000002], [41.84019, -87.64633], [41.84201, -87.64638], [41.842007, -87.646282999999], [41.84201, -87.64638], [41.8434, -87.64641], [41.843404, -87.646315999999], [41.8434, -87.64641], [41.84522, -87.64644], [41.845222000001, -87.646363], [41.84522, -87.64644], [41.847136, -87.646486], [41.847154, -87.646639], [41.84694, -87.647224], [41.846962, -87.647291], [41.84693, -87.64757], [41.84688, -87.64767], [41.846907, -87.647689], [41.84688, -87.64767], [41.846704, -87.648032], [41.846528, -87.648394], [41.846377, -87.648434], [41.846311, -87.648386], [41.846297, -87.648303], [41.847114, -87.6466], [41.847316, -87.646442], [41.85006, -87.64638], [41.85018, -87.64644], [41.85084, -87.64644], [41.850842999999, -87.646364999998], [41.85084, -87.64644], [41.85294, -87.6465], [41.852949999999, -87.646409000001], [41.85294, -87.6465], [41.85527, -87.64657], [41.855273999999, -87.646489], [41.85527, -87.64657], [41.85745, -87.64663], [41.857449, -87.646548], [41.85745, -87.64663], [41.8598, -87.64671], [41.859802000001, -87.646635], [41.8598, -87.64671], [41.86223, -87.64676], [41.862227, -87.646690999999], [41.86223, -87.64676], [41.86469, -87.64684], [41.864689, -87.646765], [41.86469, -87.64684], [41.8675, -87.64691], [41.8675, -87.646809999998], [41.8675, -87.64691], [41.86825, -87.64692], [41.8684, -87.64686], [41.87011, -87.64689], [41.870112, -87.646849000001], [41.87011, -87.64689], [41.87178, -87.64694], [41.871777, -87.646922], [41.87178, -87.64694], [41.87417, -87.64705], [41.87442, -87.64713], [41.87553, -87.64719], [41.875501000001, -87.647069000002], [41.87553, -87.64719], [41.87832, -87.64724], [41.87832, -87.647174999999], [41.87832, -87.64724], [41.8804, -87.64732], [41.880400000001, -87.647245000001], [41.8804, -87.64732], [41.88218, -87.64737], [41.882144000001, -87.647291000001], [41.88218, -87.64737], [41.88483, -87.64745], [41.884820000001, -87.647363], [41.88483, -87.64745], [41.88605, -87.64748], [41.886046, -87.6474], [41.88605, -87.64748], [41.88727, -87.64751], [41.88734, -87.64746], [41.89042, -87.64761], [41.890418999999, -87.647534000001], [41.89042, -87.64761], [41.891094, -87.647619], [41.89151, -87.64763], [41.891517, -87.647542000001], [41.89151, -87.64763], [41.89389, -87.64768], [41.893902000001, -87.647629000002], [41.89389, -87.64768], [41.89496, -87.64769], [41.89497, -87.64768], [41.89687, -87.64772], [41.896826999999, -87.647608999999], [41.89687, -87.64772], [41.8977, -87.64785], [41.89898, -87.64788], [41.89932, -87.6479], [41.899322000001, -87.647796999999], [41.89932, -87.6479], [41.90363, -87.64809], [41.90396, -87.6481], [41.903962000001, -87.647986999999], [41.90396, -87.6481], [41.90626, -87.64816], [41.906259, -87.648073000001], [41.90626, -87.64816], [41.90887, -87.64823], [41.908873, -87.648144999999], [41.90887, -87.64823], [41.91079, -87.64827], [41.910793999999, -87.648185000001], [41.91079, -87.64827], [41.91272, -87.64834], [41.91272, -87.648288], [41.91272, -87.64834], [41.91373, -87.64836], [41.913730000001, -87.648278], [41.91373, -87.64836], [41.91592, -87.64844], [41.915922999999, -87.648399999999], [41.91592, -87.64844], [41.91837, -87.64852], [41.918359, -87.648448999999], [41.91837, -87.64852], [41.92022, -87.64857], [41.920221999999, -87.648497000001], [41.92022, -87.64857], [41.92172, -87.64864], [41.921722, -87.648553000002], [41.92172, -87.64864], [41.92351, -87.6487], [41.923515000001, -87.648627999999], [41.92351, -87.6487], [41.92546, -87.64875], [41.92577, -87.64876], [41.925775, -87.648689999999], [41.92577, -87.64876], [41.92732, -87.64882], [41.927323, -87.648744999999], [41.92732, -87.64882], [41.92897, -87.64888], [41.928973, -87.6488], [41.92897, -87.64888], [41.93146, -87.64897], [41.931458999999, -87.648887], [41.93146, -87.64897], [41.93307, -87.64903], [41.933057, -87.648939999999], [41.93307, -87.64903], [41.93467, -87.64908], [41.934670999999, -87.648998000001], [41.93467, -87.64908], [41.93664, -87.64917], [41.936597999999, -87.649073], [41.93664, -87.64917], [41.9384, -87.64923], [41.938405000001, -87.649129999999], [41.9384, -87.64923], [41.93986, -87.64927], [41.939865, -87.649182], [41.93986, -87.64927], [41.940105, -87.649285], [41.94169, -87.64932], [41.941693, -87.649249000001], [41.94169, -87.64932], [41.9435, -87.64937], [41.943503999999, -87.649290000001], [41.9435, -87.64937], [41.94535, -87.64943], [41.945329000001, -87.649356], [41.94535, -87.64943], [41.94717, -87.64948], [41.947170000001, -87.649398], [41.94717, -87.64948], [41.949267, -87.649488], [41.949396, -87.649488999998], [41.949795, -87.649522], [41.949813, -87.649283], [41.949802, -87.649177999999]],\n",
       "                {&quot;bubblingMouseEvents&quot;: true, &quot;color&quot;: &quot;#3388ff&quot;, &quot;dashArray&quot;: null, &quot;dashOffset&quot;: null, &quot;fill&quot;: false, &quot;fillColor&quot;: &quot;#3388ff&quot;, &quot;fillOpacity&quot;: 0.2, &quot;fillRule&quot;: &quot;evenodd&quot;, &quot;lineCap&quot;: &quot;round&quot;, &quot;lineJoin&quot;: &quot;round&quot;, &quot;noClip&quot;: false, &quot;opacity&quot;: 1.0, &quot;smoothFactor&quot;: 1.0, &quot;stroke&quot;: true, &quot;weight&quot;: 3}\n",
       "            ).addTo(map_b3afccb256b550d8537a1e3be874b300);\n",
       "        \n",
       "    \n",
       "            poly_line_61c3d0c07c4efe5ae4bf298bbae9c2ac.bindTooltip(\n",
       "                `&lt;div&gt;\n",
       "                     8 Bus Route\n",
       "                 &lt;/div&gt;`,\n",
       "                {&quot;sticky&quot;: true}\n",
       "            );\n",
       "        \n",
       "&lt;/script&gt;\n",
       "&lt;/html&gt;\" style=\"position:absolute;width:100%;height:100%;left:0;top:0;border:none !important;\" allowfullscreen webkitallowfullscreen mozallowfullscreen></iframe></div></div>"
      ],
      "text/plain": [
       "<folium.folium.Map at 0x25ab00dff10>"
      ]
     },
     "execution_count": 22,
     "metadata": {},
     "output_type": "execute_result"
    }
   ],
   "source": [
    "folium.PolyLine(coords, tooltip='8 Bus Route').add_to(m)\n",
    "m"
   ]
  },
  {
   "cell_type": "code",
   "execution_count": 1,
   "metadata": {},
   "outputs": [
    {
     "name": "stdout",
     "output_type": "stream",
     "text": [
      "Collecting geopy\n",
      "  Downloading geopy-2.4.1-py3-none-any.whl (125 kB)\n",
      "                                              0.0/125.4 kB ? eta -:--:--\n",
      "     ---                                      10.2/125.4 kB ? eta -:--:--\n",
      "     ------------                          41.0/125.4 kB 487.6 kB/s eta 0:00:01\n",
      "     -------------------------------------- 125.4/125.4 kB 1.0 MB/s eta 0:00:00\n",
      "Collecting geographiclib<3,>=1.52 (from geopy)\n",
      "  Downloading geographiclib-2.0-py3-none-any.whl (40 kB)\n",
      "                                              0.0/40.3 kB ? eta -:--:--\n",
      "     ---------------------------------------- 40.3/40.3 kB ? eta 0:00:00\n",
      "Installing collected packages: geographiclib, geopy\n",
      "Successfully installed geographiclib-2.0 geopy-2.4.1\n"
     ]
    },
    {
     "name": "stderr",
     "output_type": "stream",
     "text": [
      "WARNING: There was an error checking the latest version of pip.\n"
     ]
    }
   ],
   "source": [
    "!pip install geopy"
   ]
  },
  {
   "cell_type": "code",
   "execution_count": 2,
   "metadata": {},
   "outputs": [],
   "source": [
    "import geopy.distance"
   ]
  },
  {
   "cell_type": "code",
   "execution_count": 5,
   "metadata": {},
   "outputs": [
    {
     "data": {
      "text/plain": [
       "255.3841172060674"
      ]
     },
     "execution_count": 5,
     "metadata": {},
     "output_type": "execute_result"
    }
   ],
   "source": [
    "geopy.distance.distance((41.94763580958048, -87.64955139160156), (41.946935000001, -87.649554999999)).ft"
   ]
  },
  {
   "cell_type": "code",
   "execution_count": 6,
   "metadata": {},
   "outputs": [
    {
     "data": {
      "text/plain": [
       "47.73852199014686"
      ]
     },
     "execution_count": 6,
     "metadata": {},
     "output_type": "execute_result"
    }
   ],
   "source": [
    "geopy.distance.distance((41.947066, -87.649554), (41.946935000001, -87.649554999999)).ft"
   ]
  },
  {
   "cell_type": "code",
   "execution_count": 7,
   "metadata": {},
   "outputs": [
    {
     "data": {
      "text/plain": [
       "797.0861894150524"
      ]
     },
     "execution_count": 7,
     "metadata": {},
     "output_type": "execute_result"
    },
    {
     "ename": "",
     "evalue": "",
     "output_type": "error",
     "traceback": [
      "\u001b[1;31mThe Kernel crashed while executing code in the current cell or a previous cell. \n",
      "\u001b[1;31mPlease review the code in the cell(s) to identify a possible cause of the failure. \n",
      "\u001b[1;31mClick <a href='https://aka.ms/vscodeJupyterKernelCrash'>here</a> for more info. \n",
      "\u001b[1;31mView Jupyter <a href='command:jupyter.viewOutput'>log</a> for further details."
     ]
    }
   ],
   "source": [
    "geopy.distance.distance((41.949122, -87.649504), (41.946935000001, -87.649554999999)).ft"
   ]
  },
  {
   "cell_type": "code",
   "execution_count": null,
   "metadata": {},
   "outputs": [],
   "source": []
  }
 ],
 "metadata": {
  "kernelspec": {
   "display_name": "cta",
   "language": "python",
   "name": "python3"
  },
  "language_info": {
   "codemirror_mode": {
    "name": "ipython",
    "version": 3
   },
   "file_extension": ".py",
   "mimetype": "text/x-python",
   "name": "python",
   "nbconvert_exporter": "python",
   "pygments_lexer": "ipython3",
   "version": "3.11.8"
  }
 },
 "nbformat": 4,
 "nbformat_minor": 2
}
